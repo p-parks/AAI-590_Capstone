{
 "cells": [
  {
   "cell_type": "markdown",
   "metadata": {},
   "source": [
    "# Fine-tune a smaller GPT model\n",
    "\n",
    "Train a smaller GPT model to produce summaries like the gpt-4o model."
   ]
  },
  {
   "cell_type": "markdown",
   "metadata": {},
   "source": [
    "## Notebook controls"
   ]
  },
  {
   "cell_type": "code",
   "execution_count": 1,
   "metadata": {},
   "outputs": [],
   "source": [
    "# notebook controls\n",
    "remove_old_directories = True\n",
    "train_model = True\n",
    "evaluate_model = True"
   ]
  },
  {
   "cell_type": "markdown",
   "metadata": {},
   "source": [
    "## Remove artifacts from previous run"
   ]
  },
  {
   "cell_type": "code",
   "execution_count": 2,
   "metadata": {},
   "outputs": [],
   "source": [
    "import shutil\n",
    "\n",
    "# remove all directories from training and testing\n",
    "if (remove_old_directories):\n",
    "    shutil.rmtree('./results/gpt', ignore_errors=True)\n",
    "    shutil.rmtree('./tuned_model', ignore_errors=True)\n",
    "    shutil.rmtree('./tuned_tokenizer', ignore_errors=True)\n",
    "    shutil.rmtree('./tmp', ignore_errors=True)"
   ]
  },
  {
   "cell_type": "markdown",
   "metadata": {},
   "source": [
    "## Select the base model"
   ]
  },
  {
   "cell_type": "code",
   "execution_count": 3,
   "metadata": {},
   "outputs": [],
   "source": [
    "# model_name = \"facebook/opt-350m\"\n",
    "# model_name = \"meta-llama/Llama-2-7b-hf\"\n",
    "# model_name = \"openai-community/gpt2\"\n",
    "model_name = \"EleutherAI/gpt-neo-125m\"\n"
   ]
  },
  {
   "cell_type": "markdown",
   "metadata": {},
   "source": [
    "## Train/fine-tune the gpt model to produce summaries "
   ]
  },
  {
   "cell_type": "code",
   "execution_count": 4,
   "metadata": {},
   "outputs": [],
   "source": [
    "from SharedUtils import trim_to_max_length\n",
    "\n",
    "def hashtag_format(text, summary):\n",
    "    prompt = f\"### Question: Summarize the following which is surrounded by quotes \\\"{text}\\\"\\n### Answer:\"\n",
    "    if (len(summary) > 0):\n",
    "        prompt += f\" {summary}\"\n",
    "    return prompt\n",
    "\n",
    "def format_text(text, summary):\n",
    "    limited_text = trim_to_max_length(text)\n",
    "    return hashtag_format(limited_text, summary)\n",
    "\n",
    "response_template = \"### Answer:\"\n",
    "    "
   ]
  },
  {
   "cell_type": "code",
   "execution_count": 5,
   "metadata": {},
   "outputs": [
    {
     "name": "stderr",
     "output_type": "stream",
     "text": [
      "c:\\Users\\paula\\.conda\\envs\\llama\\Lib\\site-packages\\tqdm\\auto.py:21: TqdmWarning: IProgress not found. Please update jupyter and ipywidgets. See https://ipywidgets.readthedocs.io/en/stable/user_install.html\n",
      "  from .autonotebook import tqdm as notebook_tqdm\n",
      "c:\\Users\\paula\\.conda\\envs\\llama\\Lib\\site-packages\\transformers\\training_args.py:1568: FutureWarning: `evaluation_strategy` is deprecated and will be removed in version 4.46 of 🤗 Transformers. Use `eval_strategy` instead\n",
      "  warnings.warn(\n",
      "c:\\Users\\paula\\.conda\\envs\\llama\\Lib\\site-packages\\trl\\trainer\\sft_trainer.py:309: UserWarning: You didn't pass a `max_seq_length` argument to the SFTTrainer, this will default to 1024\n",
      "  warnings.warn(\n",
      "100%|██████████| 24/24 [00:11<00:00,  2.11it/s]\n"
     ]
    },
    {
     "name": "stdout",
     "output_type": "stream",
     "text": [
      "{'train_runtime': 11.3831, 'train_samples_per_second': 67.205, 'train_steps_per_second': 2.108, 'train_loss': 2.289925734202067, 'epoch': 3.0}\n"
     ]
    }
   ],
   "source": [
    "from transformers import AutoModelForCausalLM, AutoTokenizer, TrainingArguments\n",
    "from datasets import load_dataset\n",
    "from trl import SFTTrainer, DataCollatorForCompletionOnlyLM\n",
    "\n",
    "if (train_model):\n",
    "    dataset = load_dataset(\"csv\", data_files=\"./datasets/podcast_with_summary_train.csv\", split=\"train\")\n",
    "\n",
    "    model = AutoModelForCausalLM.from_pretrained(model_name)\n",
    "    tokenizer = AutoTokenizer.from_pretrained(model_name)\n",
    "    tokenizer.pad_token = tokenizer.eos_token\n",
    "\n",
    "    def formatting_prompts_func(example):\n",
    "        output_texts = []\n",
    "        for i in range(len(example['text_short'])):\n",
    "            txt = example['text_short'][i]\n",
    "            text = format_text(txt, example['summary'][i])\n",
    "            output_texts.append(text)\n",
    "        \n",
    "        return output_texts\n",
    "\n",
    "    collator = DataCollatorForCompletionOnlyLM(response_template, tokenizer=tokenizer)\n",
    "\n",
    "    training_args = TrainingArguments(\n",
    "        output_dir=\"./tmp\",\n",
    "        evaluation_strategy=\"steps\",\n",
    "        eval_steps=500,\n",
    "        logging_dir='./logs',\n",
    "        logging_steps=100,\n",
    "        save_steps=500,\n",
    "        save_total_limit=2,\n",
    "        per_device_train_batch_size=4,\n",
    "        per_device_eval_batch_size=4,\n",
    "        num_train_epochs=3,\n",
    "        weight_decay=0.01,\n",
    "        learning_rate=5e-5,\n",
    "        gradient_accumulation_steps=8\n",
    "        )\n",
    "\n",
    "    trainer = SFTTrainer(\n",
    "        model,\n",
    "        train_dataset=dataset,\n",
    "        eval_dataset=dataset,\n",
    "        args=training_args,\n",
    "        formatting_func=formatting_prompts_func,\n",
    "        data_collator=collator,\n",
    "    )\n",
    "\n",
    "    trainer.train()\n",
    "\n",
    "    trainer.save_model(\"./tuned_model\")\n",
    "    tokenizer.save_pretrained(\"./tuned_tokenizer\")"
   ]
  },
  {
   "cell_type": "markdown",
   "metadata": {},
   "source": [
    "## Test inference using the new fine tuned model"
   ]
  },
  {
   "cell_type": "code",
   "execution_count": 6,
   "metadata": {},
   "outputs": [
    {
     "name": "stdout",
     "output_type": "stream",
     "text": [
      "1065\n",
      "### Question: Summarize the following which is surrounded by quotes \"The following is a conversation with Andrew Ng, one of the most impactful educators, researchers, innovators, and leaders in artificial intelligence and technology space in general. He cofounded Coursera and Google Brain, launched Deep Learning AI, Landing AI, and the AI Fund, and was the chief scientist at Baidu. As a Stanford professor and with Coursera and Deep Learning AI, he has helped educate and inspire millions of students, including me. This is the Artificial Intelligence Podcast. If you enjoy it, subscribe on YouTube, give it five stars on Apple Podcast, support it on Patreon, or simply connect with me on Twitter at Lex Friedman, spelled F R I D M A N. As usual, I'll do one or two minutes of ads now and never any ads in the middle that can break the flow of the conversation. I hope that works for you and doesn't hurt the listening experience. This show is presented by Cash App, the number one finance app in the App Store. When you get it, use code LEXPODCAST.\"\n",
      "### Answer:\n",
      "Andrew Ng discusses his impactful work in AI education and innovation with Lex Friedman on the Artificial Intelligence Podcast.\n"
     ]
    }
   ],
   "source": [
    "import pandas as pd\n",
    "\n",
    "df = pd.read_csv(\"./datasets/podcast_with_summary_test.csv\")\n",
    "first_text = df['text'][0]\n",
    "expected_summary = df['summary'][0]\n",
    "\n",
    "prompt = format_text(first_text, \"\")\n",
    "\n",
    "print(len(prompt))\n",
    "print(prompt)\n",
    "print(expected_summary)"
   ]
  },
  {
   "cell_type": "code",
   "execution_count": 7,
   "metadata": {},
   "outputs": [],
   "source": [
    "from SharedUtils import trim_to_last_punctuation\n",
    "\n",
    "def parse_summary_from_response(response):\n",
    "    # find the start token\n",
    "    response_template_trimmed = response_template.strip()\n",
    "    start_token = response.find(response_template_trimmed)\n",
    "    if start_token == -1:\n",
    "        return \"\"\n",
    "    # trim from end of the start token to the end of the response\n",
    "    result = response[start_token + len(response_template_trimmed):]\n",
    "    result = trim_to_last_punctuation(result)    \n",
    "    return result"
   ]
  },
  {
   "cell_type": "code",
   "execution_count": 8,
   "metadata": {},
   "outputs": [],
   "source": [
    "max_new_tokens = 48"
   ]
  },
  {
   "cell_type": "code",
   "execution_count": 9,
   "metadata": {},
   "outputs": [],
   "source": [
    "from transformers import AutoModelForCausalLM, AutoTokenizer, TrainingArguments\n",
    "from transformers import pipeline\n",
    "import time\n",
    "\n",
    "def create_generator(model_name, tokenizer_name):\n",
    "    model = AutoModelForCausalLM.from_pretrained(model_name)\n",
    "    tokenizer = AutoTokenizer.from_pretrained(tokenizer_name)\n",
    "    tokenizer.pad_token = tokenizer.eos_token\n",
    "    return pipeline(\"text-generation\", model=model, tokenizer=tokenizer, device=\"cuda\", truncation=True)\n",
    "\n",
    "def run_inference(generator, prompt, max_new_tokens, log_results):\n",
    "    elapsed_time = 0\n",
    "    start_time = time.time()\n",
    "    generated_text = generator(prompt, max_new_tokens=max_new_tokens, num_return_sequences=1)\n",
    "    end_time = time.time()\n",
    "    elapsed_time = end_time - start_time\n",
    "    if log_results:\n",
    "        print(generated_text[0][\"generated_text\"])\n",
    "        print(\"\\n\")\n",
    "    return parse_summary_from_response(generated_text[0][\"generated_text\"]), elapsed_time"
   ]
  },
  {
   "cell_type": "code",
   "execution_count": 10,
   "metadata": {},
   "outputs": [
    {
     "name": "stdout",
     "output_type": "stream",
     "text": [
      "### Question: Summarize the following which is surrounded by quotes \"The following is a conversation with Andrew Ng, one of the most impactful educators, researchers, innovators, and leaders in artificial intelligence and technology space in general. He cofounded Coursera and Google Brain, launched Deep Learning AI, Landing AI, and the AI Fund, and was the chief scientist at Baidu. As a Stanford professor and with Coursera and Deep Learning AI, he has helped educate and inspire millions of students, including me. This is the Artificial Intelligence Podcast. If you enjoy it, subscribe on YouTube, give it five stars on Apple Podcast, support it on Patreon, or simply connect with me on Twitter at Lex Friedman, spelled F R I D M A N. As usual, I'll do one or two minutes of ads now and never any ads in the middle that can break the flow of the conversation. I hope that works for you and doesn't hurt the listening experience. This show is presented by Cash App, the number one finance app in the App Store. When you get it, use code LEXPODCAST.\"\n",
      "### Answer: Andrew Ng discusses artificial intelligence, TED talks, and TED talks on TED, TED, and AI. Sponsored by Cash App, the number one finance app in the App Store. Sponsored by TED, and TED, and TED, and\n",
      "\n",
      "\n",
      "Summary:  Andrew Ng discusses artificial intelligence, TED talks, and TED talks on TED, TED, and AI. Sponsored by Cash App, the number one finance app in the App Store.\n"
     ]
    }
   ],
   "source": [
    "generator_finetuned = create_generator(\"./tuned_model\", \"./tuned_tokenizer\")\n",
    "summary, elapsed = run_inference(generator_finetuned, prompt, max_new_tokens, True)\n",
    "\n",
    "print(\"Summary: \" + summary)"
   ]
  },
  {
   "cell_type": "code",
   "execution_count": 11,
   "metadata": {},
   "outputs": [
    {
     "name": "stdout",
     "output_type": "stream",
     "text": [
      "### Question: Summarize the following which is surrounded by quotes \"The following is a conversation with Andrew Ng, one of the most impactful educators, researchers, innovators, and leaders in artificial intelligence and technology space in general. He cofounded Coursera and Google Brain, launched Deep Learning AI, Landing AI, and the AI Fund, and was the chief scientist at Baidu. As a Stanford professor and with Coursera and Deep Learning AI, he has helped educate and inspire millions of students, including me. This is the Artificial Intelligence Podcast. If you enjoy it, subscribe on YouTube, give it five stars on Apple Podcast, support it on Patreon, or simply connect with me on Twitter at Lex Friedman, spelled F R I D M A N. As usual, I'll do one or two minutes of ads now and never any ads in the middle that can break the flow of the conversation. I hope that works for you and doesn't hurt the listening experience. This show is presented by Cash App, the number one finance app in the App Store. When you get it, use code LEXPODCAST.\"\n",
      "### Answer: Yes, I do.\n",
      "\n",
      "### Answer: Yes, I do.\n",
      "\n",
      "### Answer: Yes, I do.\n",
      "\n",
      "### Answer: Yes, I do.\n",
      "\n",
      "### Answer: Yes, I do.\n",
      "\n",
      "###\n",
      "\n",
      "\n",
      "Summary:  Yes, I do.\n",
      "\n",
      "### Answer: Yes, I do.\n",
      "\n",
      "### Answer: Yes, I do.\n",
      "\n",
      "### Answer: Yes, I do.\n",
      "\n",
      "### Answer: Yes, I do.\n"
     ]
    }
   ],
   "source": [
    "generator_original = create_generator(model_name, model_name)\n",
    "summary, elapsed = run_inference(generator_original, prompt, max_new_tokens, True)\n",
    "\n",
    "print(\"Summary: \" + summary)"
   ]
  },
  {
   "cell_type": "markdown",
   "metadata": {},
   "source": [
    "## Evaluate the results\n",
    "Compare the fine tuned model against the base model"
   ]
  },
  {
   "cell_type": "code",
   "execution_count": 12,
   "metadata": {},
   "outputs": [],
   "source": [
    "import os\n",
    "os.makedirs(\"./results\", exist_ok=True)\n",
    "# remove dir and all subdirs\n",
    "shutil.rmtree(\"./results/gpt\", ignore_errors=True)\n",
    "os.makedirs(\"./results/gpt\", exist_ok=True)"
   ]
  },
  {
   "cell_type": "code",
   "execution_count": 13,
   "metadata": {},
   "outputs": [],
   "source": [
    "import evaluate\n",
    "import json\n",
    "import time\n",
    "\n",
    "def evaluate_df(df, generator, generator_tuned, max_new_tokens, name):\n",
    "    if (not evaluate_model):\n",
    "        return\n",
    "\n",
    "    os.makedirs(f\"./results/gpt/{name}\", exist_ok=True)\n",
    "\n",
    "    total_time_orig = 0\n",
    "    total_time_tuned = 0\n",
    "    summaries_orig = []\n",
    "    summaries_tuned = []\n",
    "    reference_summaries = []\n",
    "    \n",
    "    for i in range(len(df)):\n",
    "        text = df['text_short'][i]\n",
    "        expected_summary = df['summary'][i]\n",
    "        prompt = format_text(text, \"\")\n",
    "\n",
    "        summary, orig_time = run_inference(generator, prompt, max_new_tokens, False)\n",
    "        total_time_orig += orig_time\n",
    "        summaries_orig.append(summary)\n",
    "        \n",
    "        summary, tuned_time = run_inference(generator_tuned, prompt, max_new_tokens, False)\n",
    "        total_time_tuned += tuned_time\n",
    "        summaries_tuned.append(summary)\n",
    "        \n",
    "        reference_summaries.append(expected_summary)\n",
    "\n",
    "    print(\"Original Model\")\n",
    "    rouge = evaluate.load('rouge')\n",
    "    rouge_results = rouge.compute(predictions=summaries_orig, references=reference_summaries)\n",
    "    print(rouge_results)\n",
    "\n",
    "    bleu = evaluate.load('bleu')\n",
    "    results_bleu = bleu.compute(predictions=summaries_orig, references=reference_summaries)\n",
    "    print(results_bleu)\n",
    "\n",
    "    print(f\"Total time (seconds): {total_time_orig}\")\n",
    "    print(f\"Total time (minutes): {total_time_orig / 60}\")\n",
    "\n",
    "    with open(f\"./results/gpt/{name}/gpt_basemodel_rouge_results.json\", \"w\") as f:\n",
    "        json.dump(rouge_results, f)\n",
    "    with open(f\"./results/gpt/{name}/gpt_basemodel_bleu_results.json\", \"w\") as f:\n",
    "        json.dump(results_bleu, f)\n",
    "    with open(f\"./results/gpt/{name}/gpt_basemodel_time.txt\", \"w\") as f:\n",
    "        f.write(f\"{total_time_orig}\\n\") \n",
    "\n",
    "    print(\"Tuned Model\")\n",
    "    rouge = evaluate.load('rouge')\n",
    "    rouge_results = rouge.compute(predictions=summaries_tuned, references=reference_summaries)\n",
    "    print(rouge_results)\n",
    "\n",
    "    bleu = evaluate.load('bleu')\n",
    "    results_bleu = bleu.compute(predictions=summaries_tuned, references=reference_summaries)\n",
    "    print(results_bleu)\n",
    "\n",
    "    print(f\"Total time (seconds): {total_time_tuned}\")\n",
    "    print(f\"Total time (minutes): {total_time_tuned / 60}\")\n",
    "\n",
    "    with open(f\"./results/gpt/{name}/gpt_tunedmodel_rouge_results.json\", \"w\") as f:\n",
    "        json.dump(rouge_results, f)\n",
    "    with open(f\"./results/gpt/{name}/gpt_tunedmodel_bleu_results.json\", \"w\") as f:\n",
    "        json.dump(results_bleu, f)\n",
    "    with open(f\"./results/gpt/{name}/gpt_tunedmodel_time.txt\", \"w\") as f:\n",
    "        f.write(f\"{total_time_tuned}\\n\")\n",
    "\n",
    "    results_df = pd.DataFrame({\n",
    "        'summary': reference_summaries,\n",
    "        'summary_orig': summaries_orig,\n",
    "        'summary_tuned': summaries_tuned\n",
    "    })\n",
    "    results_df.to_csv(f\"./results/gpt/{name}/summaries.csv\")"
   ]
  },
  {
   "cell_type": "code",
   "execution_count": 14,
   "metadata": {},
   "outputs": [
    {
     "name": "stderr",
     "output_type": "stream",
     "text": [
      "You seem to be using the pipelines sequentially on GPU. In order to maximize efficiency please use a dataset\n"
     ]
    },
    {
     "name": "stdout",
     "output_type": "stream",
     "text": [
      "Original Model\n",
      "{'rouge1': 0.11662762065176122, 'rouge2': 0.031786847679097965, 'rougeL': 0.10042312952274254, 'rougeLsum': 0.09863156356162879}\n"
     ]
    },
    {
     "name": "stderr",
     "output_type": "stream",
     "text": [
      "Downloading builder script: 100%|██████████| 5.94k/5.94k [00:00<?, ?B/s]\n",
      "Downloading extra modules: 4.07kB [00:00, 8.16MB/s]                   \n",
      "Downloading extra modules: 100%|██████████| 3.34k/3.34k [00:00<?, ?B/s]\n"
     ]
    },
    {
     "name": "stdout",
     "output_type": "stream",
     "text": [
      "{'bleu': 0.0163049426861892, 'precisions': [0.14116532449076266, 0.024425989252564728, 0.006555723651033787, 0.003126628452318916], 'brevity_penalty': 1.0, 'length_ratio': 1.5625462620281274, 'translation_length': 2111, 'reference_length': 1351}\n",
      "Total time (seconds): 21.7005558013916\n",
      "Total time (minutes): 0.36167593002319337\n",
      "Tuned Model\n",
      "{'rouge1': 0.32541007175008846, 'rouge2': 0.12926667321440155, 'rougeL': 0.2824104823908641, 'rougeLsum': 0.2802352911554624}\n",
      "{'bleu': 0.06376209772052989, 'precisions': [0.2912621359223301, 0.10020040080160321, 0.03778467908902691, 0.014989293361884369], 'brevity_penalty': 1.0, 'length_ratio': 1.5247964470762398, 'translation_length': 2060, 'reference_length': 1351}\n",
      "Total time (seconds): 21.71223020553589\n",
      "Total time (minutes): 0.3618705034255981\n"
     ]
    }
   ],
   "source": [
    "df = pd.read_csv(\"./datasets/podcast_with_summary_test.csv\")\n",
    "results_df = evaluate_df(df, generator_original, generator_finetuned, max_new_tokens, \"test_dataset\")"
   ]
  },
  {
   "cell_type": "code",
   "execution_count": 15,
   "metadata": {},
   "outputs": [
    {
     "name": "stdout",
     "output_type": "stream",
     "text": [
      "Original Model\n",
      "{'rouge1': 0.11406947166757568, 'rouge2': 0.03524670853304594, 'rougeL': 0.09467139385076542, 'rougeLsum': 0.09525293320533855}\n",
      "{'bleu': 0.018025981532378, 'precisions': [0.14202719406674907, 0.026802807913209957, 0.009234828496042216, 0.0030034129692832765], 'brevity_penalty': 1.0, 'length_ratio': 1.4803293687099726, 'translation_length': 8090, 'reference_length': 5465}\n",
      "Total time (seconds): 83.93328380584717\n",
      "Total time (minutes): 1.398888063430786\n",
      "Tuned Model\n",
      "{'rouge1': 0.3406716434427197, 'rouge2': 0.1517999227470468, 'rougeL': 0.29215083541823106, 'rougeLsum': 0.2917579534757738}\n",
      "{'bleu': 0.08059614010230476, 'precisions': [0.3016712757003727, 0.12006946167204167, 0.05085179966696554, 0.02290783898305085], 'brevity_penalty': 1.0, 'length_ratio': 1.5218664226898444, 'translation_length': 8317, 'reference_length': 5465}\n",
      "Total time (seconds): 83.88731384277344\n",
      "Total time (minutes): 1.3981218973795573\n"
     ]
    }
   ],
   "source": [
    "df = pd.read_csv(\"./datasets/podcast_with_summary_train.csv\")\n",
    "results_df = evaluate_df(df, generator_original, generator_finetuned, max_new_tokens, \"train_dataset\")"
   ]
  },
  {
   "cell_type": "code",
   "execution_count": 16,
   "metadata": {},
   "outputs": [
    {
     "name": "stdout",
     "output_type": "stream",
     "text": [
      "Original Model\n",
      "{'rouge1': 0.11476014096201276, 'rouge2': 0.03470648299934744, 'rougeL': 0.09530533245046108, 'rougeLsum': 0.0954583078943993}\n",
      "{'bleu': 0.017698402932009097, 'precisions': [0.14184883834918147, 0.026310463468933416, 0.008679284743281397, 0.003028991778450887], 'brevity_penalty': 1.0, 'length_ratio': 1.49662558685446, 'translation_length': 10201, 'reference_length': 6816}\n",
      "Total time (seconds): 106.34720301628113\n",
      "Total time (minutes): 1.7724533836046854\n",
      "Tuned Model\n",
      "{'rouge1': 0.3381712395919966, 'rouge2': 0.1465574398520959, 'rougeL': 0.2902232533451762, 'rougeLsum': 0.28947029045098505}\n",
      "{'bleu': 0.07736636474037178, 'precisions': [0.29960489544184254, 0.11612646649433286, 0.04825957490502105, 0.021337579617834394], 'brevity_penalty': 1.0, 'length_ratio': 1.5224471830985915, 'translation_length': 10377, 'reference_length': 6816}\n",
      "Total time (seconds): 106.43535470962524\n",
      "Total time (minutes): 1.773922578493754\n"
     ]
    }
   ],
   "source": [
    "# read the entire dataset for the final evaluation\n",
    "df = pd.read_csv(\"./datasets/podcast_with_summary.csv\")\n",
    "results_df = evaluate_df(df, generator_original, generator_finetuned, max_new_tokens, \"whole_dataset\")"
   ]
  }
 ],
 "metadata": {
  "kernelspec": {
   "display_name": "llama",
   "language": "python",
   "name": "python3"
  },
  "language_info": {
   "codemirror_mode": {
    "name": "ipython",
    "version": 3
   },
   "file_extension": ".py",
   "mimetype": "text/x-python",
   "name": "python",
   "nbconvert_exporter": "python",
   "pygments_lexer": "ipython3",
   "version": "3.11.10"
  }
 },
 "nbformat": 4,
 "nbformat_minor": 2
}
