{
 "cells": [
  {
   "cell_type": "markdown",
   "metadata": {},
   "source": [
    "# Generate Target Summaries\n",
    "\n",
    "Use OpenAI GPT-4o to generate the target summaries our models will be trained on."
   ]
  },
  {
   "cell_type": "code",
   "execution_count": 1,
   "metadata": {},
   "outputs": [],
   "source": [
    "# %pip install openai\n",
    "# %pip install --upgrade openai"
   ]
  },
  {
   "cell_type": "markdown",
   "metadata": {},
   "source": [
    "## Read the kaggle dataset"
   ]
  },
  {
   "cell_type": "code",
   "execution_count": 2,
   "metadata": {},
   "outputs": [
    {
     "data": {
      "text/html": [
       "<div>\n",
       "<style scoped>\n",
       "    .dataframe tbody tr th:only-of-type {\n",
       "        vertical-align: middle;\n",
       "    }\n",
       "\n",
       "    .dataframe tbody tr th {\n",
       "        vertical-align: top;\n",
       "    }\n",
       "\n",
       "    .dataframe thead th {\n",
       "        text-align: right;\n",
       "    }\n",
       "</style>\n",
       "<table border=\"1\" class=\"dataframe\">\n",
       "  <thead>\n",
       "    <tr style=\"text-align: right;\">\n",
       "      <th></th>\n",
       "      <th>text</th>\n",
       "      <th>text_length</th>\n",
       "      <th>sentiment</th>\n",
       "      <th>word_count</th>\n",
       "      <th>unique_word_count</th>\n",
       "      <th>pos_tags</th>\n",
       "      <th>entities</th>\n",
       "      <th>clean_text</th>\n",
       "    </tr>\n",
       "  </thead>\n",
       "  <tbody>\n",
       "    <tr>\n",
       "      <th>0</th>\n",
       "      <td>As part of MIT course 6S099, Artificial Genera...</td>\n",
       "      <td>74068</td>\n",
       "      <td>0.171118</td>\n",
       "      <td>13424</td>\n",
       "      <td>2726</td>\n",
       "      <td>[('As', 'IN'), ('part', 'NN'), ('of', 'IN'), (...</td>\n",
       "      <td>[('MIT', 'ORG'), ('Artificial General Intellig...</td>\n",
       "      <td>part mit course artificial general intelligenc...</td>\n",
       "    </tr>\n",
       "    <tr>\n",
       "      <th>1</th>\n",
       "      <td>As part of MIT course 6S099 on artificial gene...</td>\n",
       "      <td>57788</td>\n",
       "      <td>0.116574</td>\n",
       "      <td>10217</td>\n",
       "      <td>2474</td>\n",
       "      <td>[('As', 'IN'), ('part', 'NN'), ('of', 'IN'), (...</td>\n",
       "      <td>[('MIT', 'ORG'), ('Christoph Koch', 'PERSON'),...</td>\n",
       "      <td>part mit course artificial general intelligenc...</td>\n",
       "    </tr>\n",
       "    <tr>\n",
       "      <th>2</th>\n",
       "      <td>You've studied the human mind, cognition, lang...</td>\n",
       "      <td>33940</td>\n",
       "      <td>0.106534</td>\n",
       "      <td>5989</td>\n",
       "      <td>1762</td>\n",
       "      <td>[('You', 'PRP'), (\"'ve\", 'VBP'), ('studied', '...</td>\n",
       "      <td>[('Plato', 'ORG'), ('B.', 'NORP'), ('Nietzsche...</td>\n",
       "      <td>studied human mind cognition language vision e...</td>\n",
       "    </tr>\n",
       "    <tr>\n",
       "      <th>3</th>\n",
       "      <td>What difference between biological neural netw...</td>\n",
       "      <td>34228</td>\n",
       "      <td>0.106092</td>\n",
       "      <td>5993</td>\n",
       "      <td>1528</td>\n",
       "      <td>[('What', 'WP'), ('difference', 'NN'), ('betwe...</td>\n",
       "      <td>[('First', 'ORDINAL'), ('One', 'CARDINAL'), ('...</td>\n",
       "      <td>difference biological neural networks artifici...</td>\n",
       "    </tr>\n",
       "    <tr>\n",
       "      <th>4</th>\n",
       "      <td>The following is a conversation with Vladimir ...</td>\n",
       "      <td>36171</td>\n",
       "      <td>0.125654</td>\n",
       "      <td>6374</td>\n",
       "      <td>1481</td>\n",
       "      <td>[('The', 'DT'), ('following', 'NN'), ('is', 'V...</td>\n",
       "      <td>[('Vladimir Vapnik', 'PERSON'), ('VC', 'PERSON...</td>\n",
       "      <td>following conversation vladimir vapnik co inve...</td>\n",
       "    </tr>\n",
       "  </tbody>\n",
       "</table>\n",
       "</div>"
      ],
      "text/plain": [
       "                                                text  text_length  sentiment  \\\n",
       "0  As part of MIT course 6S099, Artificial Genera...        74068   0.171118   \n",
       "1  As part of MIT course 6S099 on artificial gene...        57788   0.116574   \n",
       "2  You've studied the human mind, cognition, lang...        33940   0.106534   \n",
       "3  What difference between biological neural netw...        34228   0.106092   \n",
       "4  The following is a conversation with Vladimir ...        36171   0.125654   \n",
       "\n",
       "   word_count  unique_word_count  \\\n",
       "0       13424               2726   \n",
       "1       10217               2474   \n",
       "2        5989               1762   \n",
       "3        5993               1528   \n",
       "4        6374               1481   \n",
       "\n",
       "                                            pos_tags  \\\n",
       "0  [('As', 'IN'), ('part', 'NN'), ('of', 'IN'), (...   \n",
       "1  [('As', 'IN'), ('part', 'NN'), ('of', 'IN'), (...   \n",
       "2  [('You', 'PRP'), (\"'ve\", 'VBP'), ('studied', '...   \n",
       "3  [('What', 'WP'), ('difference', 'NN'), ('betwe...   \n",
       "4  [('The', 'DT'), ('following', 'NN'), ('is', 'V...   \n",
       "\n",
       "                                            entities  \\\n",
       "0  [('MIT', 'ORG'), ('Artificial General Intellig...   \n",
       "1  [('MIT', 'ORG'), ('Christoph Koch', 'PERSON'),...   \n",
       "2  [('Plato', 'ORG'), ('B.', 'NORP'), ('Nietzsche...   \n",
       "3  [('First', 'ORDINAL'), ('One', 'CARDINAL'), ('...   \n",
       "4  [('Vladimir Vapnik', 'PERSON'), ('VC', 'PERSON...   \n",
       "\n",
       "                                          clean_text  \n",
       "0  part mit course artificial general intelligenc...  \n",
       "1  part mit course artificial general intelligenc...  \n",
       "2  studied human mind cognition language vision e...  \n",
       "3  difference biological neural networks artifici...  \n",
       "4  following conversation vladimir vapnik co inve...  "
      ]
     },
     "execution_count": 2,
     "metadata": {},
     "output_type": "execute_result"
    }
   ],
   "source": [
    "import pandas as pd\n",
    "\n",
    "dataset_dir = 'datasets'\n",
    "\n",
    "# read the dataset\n",
    "df = pd.read_csv(f'{dataset_dir}/podcast.csv')\n",
    "df.head()"
   ]
  },
  {
   "cell_type": "code",
   "execution_count": 3,
   "metadata": {},
   "outputs": [],
   "source": [
    "# we only want the text column\n",
    "df = df[['text']]\n",
    "df = df.dropna()"
   ]
  },
  {
   "cell_type": "markdown",
   "metadata": {},
   "source": [
    "## Generate the target summaries by calling openai"
   ]
  },
  {
   "cell_type": "code",
   "execution_count": null,
   "metadata": {},
   "outputs": [],
   "source": [
    "from openai import OpenAI\n",
    "\n",
    "api_key = \"\"\n",
    "client = OpenAI(\n",
    "    api_key=api_key,\n",
    ")"
   ]
  },
  {
   "cell_type": "code",
   "execution_count": 5,
   "metadata": {},
   "outputs": [
    {
     "data": {
      "text/html": [
       "<div>\n",
       "<style scoped>\n",
       "    .dataframe tbody tr th:only-of-type {\n",
       "        vertical-align: middle;\n",
       "    }\n",
       "\n",
       "    .dataframe tbody tr th {\n",
       "        vertical-align: top;\n",
       "    }\n",
       "\n",
       "    .dataframe thead th {\n",
       "        text-align: right;\n",
       "    }\n",
       "</style>\n",
       "<table border=\"1\" class=\"dataframe\">\n",
       "  <thead>\n",
       "    <tr style=\"text-align: right;\">\n",
       "      <th></th>\n",
       "      <th>text</th>\n",
       "      <th>text_short</th>\n",
       "    </tr>\n",
       "  </thead>\n",
       "  <tbody>\n",
       "    <tr>\n",
       "      <th>0</th>\n",
       "      <td>As part of MIT course 6S099, Artificial Genera...</td>\n",
       "      <td>As part of MIT course 6S099, Artificial Genera...</td>\n",
       "    </tr>\n",
       "    <tr>\n",
       "      <th>1</th>\n",
       "      <td>As part of MIT course 6S099 on artificial gene...</td>\n",
       "      <td>As part of MIT course 6S099 on artificial gene...</td>\n",
       "    </tr>\n",
       "    <tr>\n",
       "      <th>2</th>\n",
       "      <td>You've studied the human mind, cognition, lang...</td>\n",
       "      <td>You've studied the human mind, cognition, lang...</td>\n",
       "    </tr>\n",
       "    <tr>\n",
       "      <th>3</th>\n",
       "      <td>What difference between biological neural netw...</td>\n",
       "      <td>What difference between biological neural netw...</td>\n",
       "    </tr>\n",
       "    <tr>\n",
       "      <th>4</th>\n",
       "      <td>The following is a conversation with Vladimir ...</td>\n",
       "      <td>The following is a conversation with Vladimir ...</td>\n",
       "    </tr>\n",
       "  </tbody>\n",
       "</table>\n",
       "</div>"
      ],
      "text/plain": [
       "                                                text  \\\n",
       "0  As part of MIT course 6S099, Artificial Genera...   \n",
       "1  As part of MIT course 6S099 on artificial gene...   \n",
       "2  You've studied the human mind, cognition, lang...   \n",
       "3  What difference between biological neural netw...   \n",
       "4  The following is a conversation with Vladimir ...   \n",
       "\n",
       "                                          text_short  \n",
       "0  As part of MIT course 6S099, Artificial Genera...  \n",
       "1  As part of MIT course 6S099 on artificial gene...  \n",
       "2  You've studied the human mind, cognition, lang...  \n",
       "3  What difference between biological neural netw...  \n",
       "4  The following is a conversation with Vladimir ...  "
      ]
     },
     "execution_count": 5,
     "metadata": {},
     "output_type": "execute_result"
    }
   ],
   "source": [
    "from SharedUtils import trim_to_max_length\n",
    "\n",
    "# trim the long length summary to a shorter length\n",
    "df['text_short'] = df['text'].apply(lambda x: trim_to_max_length(x))\n",
    "df.head()"
   ]
  },
  {
   "cell_type": "code",
   "execution_count": 6,
   "metadata": {},
   "outputs": [
    {
     "data": {
      "text/plain": [
       "\"The following is a conversation with Joe Rogan that we recorded after my recent appearance on his podcast, The Joe Rogan Experience. Joe has been a inspiration to me and I thank to millions of people for just being somebody who puts love out there in the world and being genuinely curious about wild ideas from chimps and psychedelics to quantum mechanics and artificial intelligence. Like many of you, I've been a fan of his podcast for over a decade and now, somehow, miraculously, am humbled to be able to call him a friend. If you enjoy this thing, subscribe on YouTube, review it with five stars on Apple Podcast, follow on Spotify, support on Patreon, or connect with me on Twitter at Lex Friedman. Today's sponsors are Neuro, Eight Sleep, Dollar Shave Club, and Olive Garden, home of the Unlimited Breadsticks and Brian Redband's favorite restaurant. Check out the first three of the sponsors in the description to get a discount and to support this podcast.\""
      ]
     },
     "execution_count": 6,
     "metadata": {},
     "output_type": "execute_result"
    }
   ],
   "source": [
    "df['text_short'][126]"
   ]
  },
  {
   "cell_type": "code",
   "execution_count": 7,
   "metadata": {},
   "outputs": [
    {
     "name": "stdout",
     "output_type": "stream",
     "text": [
      "Lex Friedman discusses his admiration for Joe Rogan, promoting his podcast and sponsors, including Neuro, Eight Sleep, and Dollar Shave Club.\n"
     ]
    }
   ],
   "source": [
    "prompt = \"Write a short summary, limited to 20 words, for the following podcast transcript: \"\n",
    "\n",
    "def generate_summary(text, index):\n",
    "    # gpt3 has a maximum context length is 16385 tokens.\n",
    "    # I guesstimated the characters that allow for 16385 tokens\n",
    "    # max_text_length = 65000\n",
    "    # if len(text) > max_text_length:\n",
    "    #     text = text[:max_text_length]\n",
    "\n",
    "    try:\n",
    "        prompt_to_send = prompt + \"\\\"\" + text + \"\\\"\"\n",
    "        chat_completion = client.chat.completions.create(\n",
    "            messages=[\n",
    "                {\n",
    "                    \"role\": \"user\",\n",
    "                    \"content\": prompt_to_send,\n",
    "                }\n",
    "            ],\n",
    "            # model=\"gpt-3.5-turbo\",\n",
    "            model=\"gpt-4o\"\n",
    "        )\n",
    "        response_summary = chat_completion.choices[0].message.content\n",
    "        # remove \"Summary:\" from the response\n",
    "        response_summary = response_summary.replace(\"Summary:\", \"\")\n",
    "        return response_summary\n",
    "    except Exception as e:\n",
    "        print(f\"Error generating summary for text: {e}, Index {index}\")\n",
    "        print(f\"Text Length: {len(text)}\")\n",
    "        return None\n",
    "\n",
    "# generate row 1 summary\n",
    "print(generate_summary(df['text_short'][126], 126))"
   ]
  },
  {
   "cell_type": "code",
   "execution_count": 8,
   "metadata": {},
   "outputs": [
    {
     "name": "stdout",
     "output_type": "stream",
     "text": [
      "Time taken to generate 319 summaries: 321.52 seconds\n"
     ]
    }
   ],
   "source": [
    "import time\n",
    "start_time = time.time()\n",
    "\n",
    "df['summary'] = df['text_short'].apply(lambda x: generate_summary(x, df['text_short'].index[df['text_short'] == x][0]))\n",
    "\n",
    "end_time = time.time()\n",
    "elapsed_time = end_time - start_time\n",
    "print(f\"Time taken to generate {df.shape[0]} summaries: {elapsed_time:.2f} seconds\")"
   ]
  },
  {
   "cell_type": "code",
   "execution_count": 9,
   "metadata": {},
   "outputs": [
    {
     "name": "stdout",
     "output_type": "stream",
     "text": [
      "Time taken to generate 319 summaries: 5.36 minutes\n"
     ]
    }
   ],
   "source": [
    "# get elapsed time in minutes\n",
    "elapsed_time_minutes = elapsed_time / 60\n",
    "print(f\"Time taken to generate {df.shape[0]} summaries: {elapsed_time_minutes:.2f} minutes\")"
   ]
  },
  {
   "cell_type": "code",
   "execution_count": 10,
   "metadata": {},
   "outputs": [],
   "source": [
    "# do a second pass to generate a second round of summaries\n",
    "# we can use these to gather metrics (rouge, bleu, etc) on 4o summaries against itself\n",
    "df['summary2'] = df['text_short'].apply(lambda x: generate_summary(x, df['text_short'].index[df['text_short'] == x][0]))"
   ]
  },
  {
   "cell_type": "code",
   "execution_count": 11,
   "metadata": {},
   "outputs": [
    {
     "data": {
      "text/html": [
       "<div>\n",
       "<style scoped>\n",
       "    .dataframe tbody tr th:only-of-type {\n",
       "        vertical-align: middle;\n",
       "    }\n",
       "\n",
       "    .dataframe tbody tr th {\n",
       "        vertical-align: top;\n",
       "    }\n",
       "\n",
       "    .dataframe thead th {\n",
       "        text-align: right;\n",
       "    }\n",
       "</style>\n",
       "<table border=\"1\" class=\"dataframe\">\n",
       "  <thead>\n",
       "    <tr style=\"text-align: right;\">\n",
       "      <th></th>\n",
       "      <th>text</th>\n",
       "      <th>text_short</th>\n",
       "      <th>summary</th>\n",
       "      <th>summary2</th>\n",
       "    </tr>\n",
       "  </thead>\n",
       "  <tbody>\n",
       "    <tr>\n",
       "      <th>0</th>\n",
       "      <td>As part of MIT course 6S099, Artificial Genera...</td>\n",
       "      <td>As part of MIT course 6S099, Artificial Genera...</td>\n",
       "      <td>Podcast features MIT's Max Tegmark discussing ...</td>\n",
       "      <td>MIT course features Max Tegmark discussing AI'...</td>\n",
       "    </tr>\n",
       "    <tr>\n",
       "      <th>1</th>\n",
       "      <td>As part of MIT course 6S099 on artificial gene...</td>\n",
       "      <td>As part of MIT course 6S099 on artificial gene...</td>\n",
       "      <td>Podcast features conversation with Christoph K...</td>\n",
       "      <td>Christoph Koch discusses his influential work ...</td>\n",
       "    </tr>\n",
       "    <tr>\n",
       "      <th>2</th>\n",
       "      <td>You've studied the human mind, cognition, lang...</td>\n",
       "      <td>You've studied the human mind, cognition, lang...</td>\n",
       "      <td>The podcast explores the meaning of life, sugg...</td>\n",
       "      <td>The podcast explores the meaning of life, sugg...</td>\n",
       "    </tr>\n",
       "    <tr>\n",
       "      <th>3</th>\n",
       "      <td>What difference between biological neural netw...</td>\n",
       "      <td>What difference between biological neural netw...</td>\n",
       "      <td>The podcast explores the mysterious biological...</td>\n",
       "      <td>The podcast explores the mysterious credit ass...</td>\n",
       "    </tr>\n",
       "    <tr>\n",
       "      <th>4</th>\n",
       "      <td>The following is a conversation with Vladimir ...</td>\n",
       "      <td>The following is a conversation with Vladimir ...</td>\n",
       "      <td>Lex Friedman interviews Vladimir Vapnik, discu...</td>\n",
       "      <td>A conversation with Vladimir Vapnik on AI, lea...</td>\n",
       "    </tr>\n",
       "  </tbody>\n",
       "</table>\n",
       "</div>"
      ],
      "text/plain": [
       "                                                text  \\\n",
       "0  As part of MIT course 6S099, Artificial Genera...   \n",
       "1  As part of MIT course 6S099 on artificial gene...   \n",
       "2  You've studied the human mind, cognition, lang...   \n",
       "3  What difference between biological neural netw...   \n",
       "4  The following is a conversation with Vladimir ...   \n",
       "\n",
       "                                          text_short  \\\n",
       "0  As part of MIT course 6S099, Artificial Genera...   \n",
       "1  As part of MIT course 6S099 on artificial gene...   \n",
       "2  You've studied the human mind, cognition, lang...   \n",
       "3  What difference between biological neural netw...   \n",
       "4  The following is a conversation with Vladimir ...   \n",
       "\n",
       "                                             summary  \\\n",
       "0  Podcast features MIT's Max Tegmark discussing ...   \n",
       "1  Podcast features conversation with Christoph K...   \n",
       "2  The podcast explores the meaning of life, sugg...   \n",
       "3  The podcast explores the mysterious biological...   \n",
       "4  Lex Friedman interviews Vladimir Vapnik, discu...   \n",
       "\n",
       "                                            summary2  \n",
       "0  MIT course features Max Tegmark discussing AI'...  \n",
       "1  Christoph Koch discusses his influential work ...  \n",
       "2  The podcast explores the meaning of life, sugg...  \n",
       "3  The podcast explores the mysterious credit ass...  \n",
       "4  A conversation with Vladimir Vapnik on AI, lea...  "
      ]
     },
     "execution_count": 11,
     "metadata": {},
     "output_type": "execute_result"
    }
   ],
   "source": [
    "df.head()"
   ]
  },
  {
   "cell_type": "code",
   "execution_count": 12,
   "metadata": {},
   "outputs": [],
   "source": [
    "# save the dataset\n",
    "df.to_csv(f'{dataset_dir}/podcast_with_summary.csv', index=False)"
   ]
  },
  {
   "cell_type": "code",
   "execution_count": 13,
   "metadata": {},
   "outputs": [],
   "source": [
    "# also save a train and test dataset\n",
    "from sklearn.model_selection import train_test_split\n",
    "\n",
    "train, test = train_test_split(df, test_size=0.2, random_state=42)\n",
    "\n",
    "train.to_csv(f'{dataset_dir}/podcast_with_summary_train.csv', index=False)\n",
    "test.to_csv(f'{dataset_dir}/podcast_with_summary_test.csv', index=False)"
   ]
  },
  {
   "cell_type": "markdown",
   "metadata": {},
   "source": [
    "## Generate baseline metrics that can be compared against\n",
    "\n",
    "Calculate the rouge and bleu for 4o summaries vs 4o summaries"
   ]
  },
  {
   "cell_type": "code",
   "execution_count": null,
   "metadata": {},
   "outputs": [
    {
     "name": "stdout",
     "output_type": "stream",
     "text": [
      "{'rouge1': 0.5523705292308793, 'rouge2': 0.29373887479712146, 'rougeL': 0.4728234984742418, 'rougeLsum': 0.4719001178605867}\n",
      "{'bleu': 0.23449828267202746, 'precisions': [0.5632099129665142, 0.28622291021671825, 0.16984204526950009, 0.11044314668498798], 'brevity_penalty': 1.0, 'length_ratio': 1.0045939537640782, 'translation_length': 6779, 'reference_length': 6748}\n"
     ]
    }
   ],
   "source": [
    "from SharedUtils import evaluate_and_save_metrics\n",
    "\n",
    "reference_summaries = df['summary'].tolist()\n",
    "generated_summaries = df['summary2'].tolist()\n",
    "\n",
    "rouge_results, bleu_results = evaluate_and_save_metrics(\n",
    "    \"openai-gpt-4o\",\n",
    "    \"baseline\",\n",
    "    \"gpt_4o\",\n",
    "    reference_summaries,\n",
    "    generated_summaries,\n",
    "    elapsed_time\n",
    ")\n",
    "\n",
    "print(rouge_results)\n",
    "print(bleu_results)\n"
   ]
  }
 ],
 "metadata": {
  "kernelspec": {
   "display_name": "llama",
   "language": "python",
   "name": "python3"
  },
  "language_info": {
   "codemirror_mode": {
    "name": "ipython",
    "version": 3
   },
   "file_extension": ".py",
   "mimetype": "text/x-python",
   "name": "python",
   "nbconvert_exporter": "python",
   "pygments_lexer": "ipython3",
   "version": "3.11.10"
  }
 },
 "nbformat": 4,
 "nbformat_minor": 2
}
